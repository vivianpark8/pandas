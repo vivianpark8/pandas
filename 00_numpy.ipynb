{
 "cells": [
  {
   "cell_type": "code",
   "execution_count": 2,
   "id": "0a57a162-fa26-4c59-aee2-8490e8640a8b",
   "metadata": {},
   "outputs": [],
   "source": [
    "import numpy as np\n",
    "\n",
    "my_array = np.arange(1000000) #numpy에게 백만개짜리의 리스트 만들어달라고 요청\n",
    "my_list = list(range(1000000)) #리스트에 저장"
   ]
  },
  {
   "cell_type": "code",
   "execution_count": 4,
   "id": "f3d8a0aa-5af9-4bff-ac90-5017d28d1891",
   "metadata": {},
   "outputs": [
    {
     "name": "stdout",
     "output_type": "stream",
     "text": [
      "112 ms ± 6.29 ms per loop (mean ± std. dev. of 7 runs, 10 loops each)\n",
      "4.18 ms ± 198 μs per loop (mean ± std. dev. of 7 runs, 100 loops each)\n"
     ]
    }
   ],
   "source": [
    "# 리스트 내부 모든 숫자에 2를 곱하기\n",
    "\n",
    "%timeit my_list2 = [i*2 for i in my_list]\n",
    "%timeit my_array2 = my_array * 2"
   ]
  },
  {
   "cell_type": "code",
   "execution_count": 7,
   "id": "db694832-bd2a-4262-9577-b3adb0c9c44a",
   "metadata": {},
   "outputs": [
    {
     "name": "stdout",
     "output_type": "stream",
     "text": [
      "[[   1.     1.2    3. ]\n",
      " [-123.   123.     0. ]]\n"
     ]
    }
   ],
   "source": [
    "a = [\n",
    "    [1, 1.2, 3],\n",
    "    [-123, 123, 0]\n",
    "]\n",
    "data = np.array(a)\n",
    "print(data)\n",
    "\n",
    "# 리스트 내부에 소수\n",
    "# -> array 내부의 모든 데이터를 일괄적으로 소수로 바꿔줌\n",
    "# -> 나중 계산 편하게 하기 위해서"
   ]
  },
  {
   "cell_type": "code",
   "execution_count": 9,
   "id": "6c0971f7-45b7-4c0b-8f4b-c00add766bcc",
   "metadata": {},
   "outputs": [
    {
     "name": "stdout",
     "output_type": "stream",
     "text": [
      "[[   10.    12.    30.]\n",
      " [-1230.  1230.     0.]]\n",
      "[[   2.     2.4    6. ]\n",
      " [-246.   246.     0. ]]\n"
     ]
    }
   ],
   "source": [
    "print(data * 10)\n",
    "print(data + data)"
   ]
  },
  {
   "cell_type": "code",
   "execution_count": null,
   "id": "7a2adbe0-a074-41c5-9daa-026809780987",
   "metadata": {},
   "outputs": [],
   "source": [
    "# 0차원: 스칼라(scala), 1차원: 벡터(vector), 2차원: 행렬(matrix), 3차원: 텐서(tenser)"
   ]
  },
  {
   "cell_type": "code",
   "execution_count": 10,
   "id": "ff1b1881-5fa2-4a16-888b-4d89f3e82521",
   "metadata": {},
   "outputs": [
    {
     "name": "stdout",
     "output_type": "stream",
     "text": [
      "(2, 3)\n"
     ]
    }
   ],
   "source": [
    "print(data.shape)"
   ]
  },
  {
   "cell_type": "code",
   "execution_count": 11,
   "id": "76c205e8-00ea-4836-acd8-a497a21bd9e1",
   "metadata": {},
   "outputs": [
    {
     "name": "stdout",
     "output_type": "stream",
     "text": [
      "float64\n"
     ]
    }
   ],
   "source": [
    "print(data.dtype)"
   ]
  },
  {
   "cell_type": "markdown",
   "id": "594c045e-fc63-4c20-992d-1c39c60bc3c2",
   "metadata": {},
   "source": [
    "### ndarray 생성하기"
   ]
  },
  {
   "cell_type": "code",
   "execution_count": 15,
   "id": "9ad66982-f0b3-4ea4-84a8-f2ad9b3d8d63",
   "metadata": {},
   "outputs": [],
   "source": [
    "data1 = [1, 2, 3, 4, 5]\n",
    "arr1 = np.array(data1)"
   ]
  },
  {
   "cell_type": "code",
   "execution_count": 16,
   "id": "803e5ac5-fe77-496c-ae0d-a4e1f03ad65d",
   "metadata": {},
   "outputs": [
    {
     "name": "stdout",
     "output_type": "stream",
     "text": [
      "[1 2 3 4 5]\n",
      "<class 'numpy.ndarray'>\n"
     ]
    }
   ],
   "source": [
    "print(arr1)\n",
    "print(type(arr1))"
   ]
  },
  {
   "cell_type": "code",
   "execution_count": 17,
   "id": "cab0c3ee-c81a-495e-855c-47e759c4ad5e",
   "metadata": {},
   "outputs": [
    {
     "name": "stdout",
     "output_type": "stream",
     "text": [
      "[[1.1 2.2]\n",
      " [3.3 4.4]]\n",
      "<class 'numpy.ndarray'>\n"
     ]
    }
   ],
   "source": [
    "arr2 = np.array([[1.1, 2.2], [3.3, 4.4]])\n",
    "print(arr2)\n",
    "print(type(arr2))"
   ]
  },
  {
   "cell_type": "code",
   "execution_count": 18,
   "id": "c19c24b5-9a82-4e86-82a8-b495bb1f7efa",
   "metadata": {},
   "outputs": [
    {
     "name": "stdout",
     "output_type": "stream",
     "text": [
      "1\n",
      "2\n"
     ]
    }
   ],
   "source": [
    "print(arr1.ndim)\n",
    "print(arr2.ndim)\n",
    "#차원수"
   ]
  },
  {
   "cell_type": "code",
   "execution_count": 19,
   "id": "7ae34624-7a50-4fe2-b16b-5501f1851a7d",
   "metadata": {},
   "outputs": [
    {
     "name": "stdout",
     "output_type": "stream",
     "text": [
      "(5,)\n",
      "(2, 2)\n"
     ]
    }
   ],
   "source": [
    "print(arr1.shape)\n",
    "print(arr2.shape)"
   ]
  },
  {
   "cell_type": "code",
   "execution_count": 22,
   "id": "89aab700-c764-4c33-9e5e-1c227d8c0d8f",
   "metadata": {},
   "outputs": [
    {
     "name": "stdout",
     "output_type": "stream",
     "text": [
      "[0. 0. 0. 0. 0. 0. 0. 0. 0. 0.]\n",
      "[0, 0, 0, 0, 0, 0, 0, 0, 0, 0]\n",
      "[[0. 0. 0. 0. 0.]\n",
      " [0. 0. 0. 0. 0.]\n",
      " [0. 0. 0. 0. 0.]\n",
      " [0. 0. 0. 0. 0.]\n",
      " [0. 0. 0. 0. 0.]]\n",
      "[[[0. 0.]\n",
      "  [0. 0.]]\n",
      "\n",
      " [[0. 0.]\n",
      "  [0. 0.]]]\n"
     ]
    }
   ],
   "source": [
    "# 데이터 없이 미리 규격을 만들 때\n",
    "\n",
    "# 1차원\n",
    "print(np.zeros(10))\n",
    "print([0] * 10) # 이 코드와 같음\n",
    "\n",
    "# 2차원\n",
    "print(np.zeros((5,5)))\n",
    "\n",
    "print(np.empty((2, 2, 2)))"
   ]
  },
  {
   "cell_type": "code",
   "execution_count": 23,
   "id": "4ec197b9-0b6e-4354-afaa-622a933459ab",
   "metadata": {},
   "outputs": [
    {
     "name": "stdout",
     "output_type": "stream",
     "text": [
      "[0 1 2 3 4 5 6 7 8 9]\n"
     ]
    }
   ],
   "source": [
    "# 0부터 9까지 순서대로 배열 생성\n",
    "print(np.arange(10))"
   ]
  },
  {
   "cell_type": "markdown",
   "id": "012bd4c0-81a1-4539-ad19-a8e24a1e6b43",
   "metadata": {},
   "source": [
    "## ndarray 자료형"
   ]
  },
  {
   "cell_type": "code",
   "execution_count": 24,
   "id": "dec4fab4-35b3-42ef-b211-a79db92ea4bb",
   "metadata": {},
   "outputs": [
    {
     "name": "stdout",
     "output_type": "stream",
     "text": [
      "int64\n",
      "int64\n"
     ]
    }
   ],
   "source": [
    "arr1 = np.array([1, 2, 3])\n",
    "arr2 = np.array([1, 2, 3])\n",
    "\n",
    "print(arr1.dtype)\n",
    "print(arr2.dtype)\n"
   ]
  },
  {
   "cell_type": "code",
   "execution_count": 25,
   "id": "a84ca4c4-afa6-4751-b1d2-72274373d011",
   "metadata": {},
   "outputs": [
    {
     "name": "stdout",
     "output_type": "stream",
     "text": [
      "float64\n",
      "int32\n"
     ]
    }
   ],
   "source": [
    "arr1 = np.array([1, 2, 3], dtype=np.float64)\n",
    "arr2 = np.array([1, 2, 3], dtype=np.int32)\n",
    "\n",
    "print(arr1.dtype)\n",
    "print(arr2.dtype)\n"
   ]
  },
  {
   "cell_type": "code",
   "execution_count": 28,
   "id": "598ee91f-8fc4-4e1b-9374-eed603eec73d",
   "metadata": {},
   "outputs": [
    {
     "name": "stdout",
     "output_type": "stream",
     "text": [
      "int64\n",
      "[1. 2. 3.]\n",
      "float64\n"
     ]
    }
   ],
   "source": [
    "arr1 = np.array([1, 2, 3])\n",
    "print(arr1.dtype)\n",
    "\n",
    "float_arr1 = arr1.astype(np.float64) # astype() 내장 함수로 형변환 시켜줌\n",
    "print(float_arr1)\n",
    "print(float_arr1.dtype)"
   ]
  },
  {
   "cell_type": "code",
   "execution_count": 29,
   "id": "a80249e6-bbc1-4775-8075-d5afc1f2eecc",
   "metadata": {},
   "outputs": [
    {
     "name": "stdout",
     "output_type": "stream",
     "text": [
      "float64\n",
      "[1 2 3]\n",
      "int64\n"
     ]
    }
   ],
   "source": [
    "arr2 = np.array([1.1, 2.2, 3.3])\n",
    "print(arr2.dtype)\n",
    "int_arr2 = arr2.astype(np.int64)\n",
    "print(int_arr2)\n",
    "print(int_arr2.dtype)"
   ]
  },
  {
   "cell_type": "markdown",
   "id": "fca5192d-f34c-4bb3-9569-7fa2a7ac7530",
   "metadata": {},
   "source": [
    "### 산술 연산"
   ]
  },
  {
   "cell_type": "code",
   "execution_count": 31,
   "id": "a2541d5b-989d-4ac2-88bb-d34a420409e2",
   "metadata": {},
   "outputs": [
    {
     "name": "stdout",
     "output_type": "stream",
     "text": [
      "[[1 2 3]\n",
      " [4 5 6]]\n"
     ]
    }
   ],
   "source": [
    "arr = np.array([[1, 2, 3], [4, 5, 6]])\n",
    "print(arr)"
   ]
  },
  {
   "cell_type": "code",
   "execution_count": 32,
   "id": "850314e2-4678-4880-8acd-a912c445e34c",
   "metadata": {},
   "outputs": [
    {
     "name": "stdout",
     "output_type": "stream",
     "text": [
      "[[ 1  4  9]\n",
      " [16 25 36]]\n"
     ]
    }
   ],
   "source": [
    "print(arr * arr) # 행렬에서의 곱셈과는 다름"
   ]
  },
  {
   "cell_type": "code",
   "execution_count": 33,
   "id": "7cb3e38f-6997-4a02-a07f-f5d8df0a2eb0",
   "metadata": {},
   "outputs": [
    {
     "name": "stdout",
     "output_type": "stream",
     "text": [
      "[[ 2  4  6]\n",
      " [ 8 10 12]]\n"
     ]
    }
   ],
   "source": [
    "print(arr + arr)"
   ]
  },
  {
   "cell_type": "code",
   "execution_count": 35,
   "id": "0e54035a-95a5-4a5a-8c63-578aedc69f12",
   "metadata": {},
   "outputs": [
    {
     "name": "stdout",
     "output_type": "stream",
     "text": [
      "[[1.         0.5        0.33333333]\n",
      " [0.25       0.2        0.16666667]]\n"
     ]
    }
   ],
   "source": [
    "print(1 / arr)"
   ]
  },
  {
   "cell_type": "code",
   "execution_count": 36,
   "id": "06ab5987-fc2a-4e64-b633-3582c156cc6d",
   "metadata": {},
   "outputs": [
    {
     "name": "stdout",
     "output_type": "stream",
     "text": [
      "[[  1   8  27]\n",
      " [ 64 125 216]]\n"
     ]
    }
   ],
   "source": [
    "print(arr ** 3)"
   ]
  },
  {
   "cell_type": "code",
   "execution_count": 39,
   "id": "712f27a0-3f5b-4081-9fbe-b478da4b8eeb",
   "metadata": {},
   "outputs": [
    {
     "name": "stdout",
     "output_type": "stream",
     "text": [
      "[[1 2 3]\n",
      " [4 5 6]]\n",
      "[[3 2 1]\n",
      " [1 2 3]]\n",
      "[[False False  True]\n",
      " [ True  True  True]]\n",
      "[[False False  True]\n",
      " [False False False]]\n"
     ]
    }
   ],
   "source": [
    "arr2 = np.array([[3, 2, 1], [1, 2, 3]])\n",
    "print(arr)\n",
    "print(arr2)\n",
    "print(arr > arr2)\n",
    "print(arr == 3)"
   ]
  },
  {
   "cell_type": "markdown",
   "id": "6af01b21-0a19-475f-ad5f-f412bc651543",
   "metadata": {},
   "source": [
    "### 색인(인덱싱)과 슬라이싱"
   ]
  },
  {
   "cell_type": "code",
   "execution_count": 41,
   "id": "ae9b479f-6424-4d6a-8ccf-d04ba1eb27d6",
   "metadata": {},
   "outputs": [
    {
     "name": "stdout",
     "output_type": "stream",
     "text": [
      "[0 1 2 3 4 5 6 7 8 9]\n"
     ]
    }
   ],
   "source": [
    "arr = np.arange(10)\n",
    "print(arr)"
   ]
  },
  {
   "cell_type": "code",
   "execution_count": 43,
   "id": "8caf804d-eddb-434b-8f5c-fe66fe9495b0",
   "metadata": {},
   "outputs": [
    {
     "name": "stdout",
     "output_type": "stream",
     "text": [
      "7\n"
     ]
    }
   ],
   "source": [
    "print(arr[7])"
   ]
  },
  {
   "cell_type": "code",
   "execution_count": 45,
   "id": "492f9007-67d6-47c5-909e-94fdefa2e3e3",
   "metadata": {},
   "outputs": [
    {
     "name": "stdout",
     "output_type": "stream",
     "text": [
      "[2 3 4]\n"
     ]
    }
   ],
   "source": [
    "print(arr[2:5])"
   ]
  },
  {
   "cell_type": "code",
   "execution_count": 46,
   "id": "508d3fdc-f79a-4069-ac8d-0ef208797922",
   "metadata": {},
   "outputs": [],
   "source": [
    "arr[2:5] = 10"
   ]
  },
  {
   "cell_type": "code",
   "execution_count": 47,
   "id": "ae7a753b-50bf-46c2-be29-b8981ca5bf9f",
   "metadata": {},
   "outputs": [
    {
     "name": "stdout",
     "output_type": "stream",
     "text": [
      "[ 0  1 10 10 10  5  6  7  8  9]\n"
     ]
    }
   ],
   "source": [
    "print(arr)"
   ]
  },
  {
   "cell_type": "code",
   "execution_count": 48,
   "id": "ad8c1ee1-4576-4673-99cc-18c85d3f1baf",
   "metadata": {},
   "outputs": [
    {
     "name": "stdout",
     "output_type": "stream",
     "text": [
      "[1, 2, 3, 4, 5]\n"
     ]
    }
   ],
   "source": [
    "py_list = [1, 2, 3, 4, 5]\n",
    "py_list[2:3].pop()\n",
    "print(py_list)"
   ]
  },
  {
   "cell_type": "code",
   "execution_count": 51,
   "id": "60c83557-0145-42f6-bc02-7f891179b9db",
   "metadata": {},
   "outputs": [
    {
     "name": "stdout",
     "output_type": "stream",
     "text": [
      "[[1 2 3]\n",
      " [4 5 6]]\n",
      "5\n",
      "5\n"
     ]
    }
   ],
   "source": [
    "arr = np.array([[1, 2, 3], [4, 5, 6]])\n",
    "print(arr)\n",
    "# 데이터 5에 접근하고 싶다면?\n",
    "print(arr[1][1]) # 리스트에서 사용하던 방법임. 이것도 동작하긴 함. 하지만 더 높은 차원에서 접근할 땐 불편함\n",
    "# 편의 기능\n",
    "print(arr[1, 1]) # 대괄호를 하나만 써도 가능"
   ]
  },
  {
   "cell_type": "code",
   "execution_count": 53,
   "id": "c05ebef1-5ef6-45b6-853b-37cb43d28479",
   "metadata": {},
   "outputs": [],
   "source": [
    "arr3d = np.array([[[1, 2, 3], [4, 5, 6], [7, 8, 9]], \n",
    "          [[11, 12, 13], [14, 15, 16], [17, 18, 19]],\n",
    "          [[11, 22, 33], [44, 55, 66], [77, 88, 99]]])"
   ]
  },
  {
   "cell_type": "code",
   "execution_count": 54,
   "id": "24398883-4ff3-4352-8c89-41544ae65071",
   "metadata": {},
   "outputs": [
    {
     "name": "stdout",
     "output_type": "stream",
     "text": [
      "(3, 3, 3)\n"
     ]
    }
   ],
   "source": [
    "print(arr3d.shape)"
   ]
  },
  {
   "cell_type": "code",
   "execution_count": 59,
   "id": "20f126db-4ed1-496b-8a1f-0c19d7a3f596",
   "metadata": {},
   "outputs": [
    {
     "name": "stdout",
     "output_type": "stream",
     "text": [
      "22\n",
      "22\n"
     ]
    }
   ],
   "source": [
    "print(arr3d[2][0][1])\n",
    "print(arr3d[2, 0, 1])"
   ]
  },
  {
   "cell_type": "code",
   "execution_count": 62,
   "id": "614b0b74-baf8-4b51-ad30-1fe6f55c0b2a",
   "metadata": {},
   "outputs": [
    {
     "data": {
      "text/plain": [
       "array([[[6],\n",
       "        [9]]])"
      ]
     },
     "execution_count": 62,
     "metadata": {},
     "output_type": "execute_result"
    }
   ],
   "source": [
    "arr3d[:1, 1:, 2:]"
   ]
  },
  {
   "cell_type": "code",
   "execution_count": 63,
   "id": "741fa346-17f4-4c75-8027-da9b04bf4633",
   "metadata": {},
   "outputs": [
    {
     "data": {
      "text/plain": [
       "array([[6],\n",
       "       [9]])"
      ]
     },
     "execution_count": 63,
     "metadata": {},
     "output_type": "execute_result"
    }
   ],
   "source": [
    "arr3d[0, 1:, 2:]"
   ]
  },
  {
   "cell_type": "code",
   "execution_count": 64,
   "id": "fe43543f-0121-4e0e-8b52-86b2750d9e7d",
   "metadata": {},
   "outputs": [
    {
     "name": "stdout",
     "output_type": "stream",
     "text": [
      "[[[   1    2    3]\n",
      "  [   4    5 9999]\n",
      "  [   7    8 9999]]\n",
      "\n",
      " [[  11   12   13]\n",
      "  [  14   15   16]\n",
      "  [  17   18   19]]\n",
      "\n",
      " [[  11   22   33]\n",
      "  [  44   55   66]\n",
      "  [  77   88   99]]]\n"
     ]
    }
   ],
   "source": [
    "arr3d[0, 1:, 2:] = 9999\n",
    "print(arr3d)"
   ]
  },
  {
   "cell_type": "code",
   "execution_count": 66,
   "id": "b57eab7a-4408-411d-892f-cafe357dc0dd",
   "metadata": {},
   "outputs": [
    {
     "data": {
      "text/plain": [
       "array([ True, False,  True, False])"
      ]
     },
     "execution_count": 66,
     "metadata": {},
     "output_type": "execute_result"
    }
   ],
   "source": [
    "names = np.array(['hong', 'kim', 'hong', 'kim'])\n",
    "data = np.array([['math', 60], ['math', 90], ['eng', 70], ['eng', 50]])\n",
    "\n",
    "# data에서 hong의 데이터만 고르고 싶다면?\n",
    "# 먼저 불리언 데이터를 만들어낼 것임\n",
    "# == 연산이 가능\n",
    "\n",
    "names == 'hong'\n",
    "# name 데이터 중 hong과 같은지 확인하기\n",
    "# 연산 결과가 True 혹은 False로 나옴"
   ]
  },
  {
   "cell_type": "code",
   "execution_count": 70,
   "id": "d10f85b2-f1fa-4af5-b934-ccd985c18e24",
   "metadata": {},
   "outputs": [
    {
     "name": "stdout",
     "output_type": "stream",
     "text": [
      "[['math' '60']\n",
      " ['eng' '70']]\n"
     ]
    }
   ],
   "source": [
    "#data[[True, False, True, False]]\n",
    "print(data[names == 'hong'])\n",
    "# -> True 위치에 있는 데이터만 분리시켜줌\n",
    "# 특정 조건에 맞는 데이터 고를 때 이 방법 사용함"
   ]
  },
  {
   "cell_type": "code",
   "execution_count": 71,
   "id": "a742be8b-0794-4526-8065-2bff62668751",
   "metadata": {},
   "outputs": [
    {
     "name": "stdout",
     "output_type": "stream",
     "text": [
      "['60' '70']\n",
      "[['math']\n",
      " ['eng']]\n"
     ]
    }
   ],
   "source": [
    "# 점수만 따로 보고 싶다면?\n",
    "print(data[names == 'hong', 1]) # 인덱스 접근 -> 1차원 출력\n",
    "print(data[names == 'hong', :1]) # 슬라이싱 접근 -> 2차원 출력\n"
   ]
  },
  {
   "cell_type": "code",
   "execution_count": 72,
   "id": "7184661f-f440-4b39-be60-b6ff8f55f570",
   "metadata": {},
   "outputs": [
    {
     "name": "stdout",
     "output_type": "stream",
     "text": [
      "[False  True False  True]\n"
     ]
    }
   ],
   "source": [
    "print(names != 'hong')"
   ]
  },
  {
   "cell_type": "code",
   "execution_count": 73,
   "id": "6486cb99-ac34-4723-b338-229c4d255c87",
   "metadata": {},
   "outputs": [
    {
     "name": "stdout",
     "output_type": "stream",
     "text": [
      "[False  True False  True]\n"
     ]
    }
   ],
   "source": [
    "print(~(names == 'hong'))"
   ]
  },
  {
   "cell_type": "code",
   "execution_count": 74,
   "id": "2a403b87-3e69-4c05-b831-6a701170816a",
   "metadata": {},
   "outputs": [
    {
     "data": {
      "text/plain": [
       "array([['math', '90'],\n",
       "       ['eng', '50']], dtype='<U21')"
      ]
     },
     "execution_count": 74,
     "metadata": {},
     "output_type": "execute_result"
    }
   ],
   "source": [
    "cond = names == 'kim' # 결과를 condition 변수에 저장함\n",
    "data[cond]"
   ]
  },
  {
   "cell_type": "markdown",
   "id": "e2d5661e-68d7-4f23-976f-c11d22decb59",
   "metadata": {},
   "source": [
    "### 팬시 색인(fancy indexing)"
   ]
  },
  {
   "cell_type": "code",
   "execution_count": 76,
   "id": "1dac17b5-d361-43fe-a2a5-b0bdc204463f",
   "metadata": {},
   "outputs": [
    {
     "name": "stdout",
     "output_type": "stream",
     "text": [
      "[[0. 0. 0. 0.]\n",
      " [0. 0. 0. 0.]\n",
      " [0. 0. 0. 0.]\n",
      " [0. 0. 0. 0.]\n",
      " [0. 0. 0. 0.]\n",
      " [0. 0. 0. 0.]\n",
      " [0. 0. 0. 0.]\n",
      " [0. 0. 0. 0.]]\n"
     ]
    }
   ],
   "source": [
    "arr = np.zeros((8, 4))\n",
    "print(arr)"
   ]
  },
  {
   "cell_type": "code",
   "execution_count": 77,
   "id": "8074a9ae-ff94-47b2-baf6-694fcb636a66",
   "metadata": {},
   "outputs": [
    {
     "name": "stdout",
     "output_type": "stream",
     "text": [
      "[[0. 0. 0. 0.]\n",
      " [1. 1. 1. 1.]\n",
      " [2. 2. 2. 2.]\n",
      " [3. 3. 3. 3.]\n",
      " [4. 4. 4. 4.]\n",
      " [5. 5. 5. 5.]\n",
      " [6. 6. 6. 6.]\n",
      " [7. 7. 7. 7.]]\n"
     ]
    }
   ],
   "source": [
    "for i in range(8):\n",
    "    arr[i] = i\n",
    "print(arr)"
   ]
  },
  {
   "cell_type": "code",
   "execution_count": 78,
   "id": "04008f70-6c54-4638-88cf-bdc2a049a1fe",
   "metadata": {},
   "outputs": [],
   "source": [
    "# 팬시 인덱싱은 특정해서 가져올 때 사용함"
   ]
  },
  {
   "cell_type": "code",
   "execution_count": 80,
   "id": "1167e579-8336-4ef4-af55-03bd4ee699db",
   "metadata": {},
   "outputs": [
    {
     "data": {
      "text/plain": [
       "array([[4., 4., 4., 4.],\n",
       "       [3., 3., 3., 3.],\n",
       "       [0., 0., 0., 0.],\n",
       "       [5., 5., 5., 5.]])"
      ]
     },
     "execution_count": 80,
     "metadata": {},
     "output_type": "execute_result"
    }
   ],
   "source": [
    "arr[[4, 3, 0, 5]]\n",
    "# 4번째 행, 3번째 행... 을 직접 골라서 가져옴\n",
    "# 대괄호 내부에 대괄호 한 번 더 작성하는 것이 문법\n",
    "# 원하는 행 선택\n",
    "# 순서도 내가 지정한 순서대로 출력해줌"
   ]
  },
  {
   "cell_type": "code",
   "execution_count": 82,
   "id": "085b7bc1-9ddc-4779-bcbe-04e8cf061735",
   "metadata": {},
   "outputs": [
    {
     "data": {
      "text/plain": [
       "array([[5., 5., 5., 5.],\n",
       "       [3., 3., 3., 3.],\n",
       "       [7., 7., 7., 7.]])"
      ]
     },
     "execution_count": 82,
     "metadata": {},
     "output_type": "execute_result"
    }
   ],
   "source": [
    "arr[[-3, -5, -1]]"
   ]
  },
  {
   "cell_type": "code",
   "execution_count": 86,
   "id": "b428ba16-9c5e-48c0-86a8-977161760b53",
   "metadata": {},
   "outputs": [
    {
     "name": "stdout",
     "output_type": "stream",
     "text": [
      "[[ 0  1  2  3]\n",
      " [ 4  5  6  7]\n",
      " [ 8  9 10 11]\n",
      " [12 13 14 15]\n",
      " [16 17 18 19]\n",
      " [20 21 22 23]\n",
      " [24 25 26 27]\n",
      " [28 29 30 31]]\n"
     ]
    }
   ],
   "source": [
    "arr = np.arange(32).reshape(8, 4) # reshape: 내가 가진 행렬의 가로세로 shape 수정할 때 시용함\n",
    "print(arr)"
   ]
  },
  {
   "cell_type": "code",
   "execution_count": 87,
   "id": "c8f5b700-e2e8-4630-98e7-95ab8cf62cb9",
   "metadata": {},
   "outputs": [
    {
     "data": {
      "text/plain": [
       "array([[ 4,  5,  6,  7],\n",
       "       [20, 21, 22, 23]])"
      ]
     },
     "execution_count": 87,
     "metadata": {},
     "output_type": "execute_result"
    }
   ],
   "source": [
    "arr[[1, 5]]"
   ]
  },
  {
   "cell_type": "code",
   "execution_count": 88,
   "id": "8bf702f2-246a-4322-955b-18c3cb0618c5",
   "metadata": {},
   "outputs": [
    {
     "data": {
      "text/plain": [
       "array([ 6, 23])"
      ]
     },
     "execution_count": 88,
     "metadata": {},
     "output_type": "execute_result"
    }
   ],
   "source": [
    "arr[[1, 5], [2, 3]] # 1, 2 데이터와 5, 3의 데이터가 출력됨"
   ]
  },
  {
   "cell_type": "code",
   "execution_count": 92,
   "id": "28e40f1b-18e7-4624-92c0-51d7ef79a1b4",
   "metadata": {},
   "outputs": [
    {
     "data": {
      "text/plain": [
       "array([[ 6,  7],\n",
       "       [22, 23]])"
      ]
     },
     "execution_count": 92,
     "metadata": {},
     "output_type": "execute_result"
    }
   ],
   "source": [
    "arr[[1, 5]][:, [2, 3]]"
   ]
  },
  {
   "cell_type": "markdown",
   "id": "2a64c0a8-e5b1-4e01-8e2c-488cbd3f3fb5",
   "metadata": {},
   "source": [
    "### 배열 전치"
   ]
  },
  {
   "cell_type": "code",
   "execution_count": 94,
   "id": "600f11f5-1fc2-4a11-8c57-c850f44426dd",
   "metadata": {},
   "outputs": [
    {
     "name": "stdout",
     "output_type": "stream",
     "text": [
      "[[ 0  1  2  3  4]\n",
      " [ 5  6  7  8  9]\n",
      " [10 11 12 13 14]]\n"
     ]
    }
   ],
   "source": [
    "arr = np.arange(15).reshape(3, 5)\n",
    "print(arr)"
   ]
  },
  {
   "cell_type": "code",
   "execution_count": 95,
   "id": "3678e9d7-8aa5-4c5e-aa25-095758763b2e",
   "metadata": {},
   "outputs": [
    {
     "name": "stdout",
     "output_type": "stream",
     "text": [
      "[[ 0  5 10]\n",
      " [ 1  6 11]\n",
      " [ 2  7 12]\n",
      " [ 3  8 13]\n",
      " [ 4  9 14]]\n"
     ]
    }
   ],
   "source": [
    "print(arr.T)"
   ]
  },
  {
   "cell_type": "code",
   "execution_count": 96,
   "id": "249412ac-821f-4f8e-9514-4a19848625ee",
   "metadata": {},
   "outputs": [
    {
     "data": {
      "text/plain": [
       "array([[ 30,  80, 130],\n",
       "       [ 80, 255, 430],\n",
       "       [130, 430, 730]])"
      ]
     },
     "execution_count": 96,
     "metadata": {},
     "output_type": "execute_result"
    }
   ],
   "source": [
    "arr @ arr.T"
   ]
  },
  {
   "cell_type": "code",
   "execution_count": 100,
   "id": "14334eef-fdc9-4aa5-be19-3f14c6bdcb13",
   "metadata": {},
   "outputs": [
    {
     "name": "stdout",
     "output_type": "stream",
     "text": [
      "[[ 30  80 130]\n",
      " [ 80 255 430]\n",
      " [130 430 730]]\n"
     ]
    }
   ],
   "source": [
    "print(np.dot(arr, arr.T))"
   ]
  },
  {
   "cell_type": "markdown",
   "id": "8090637c-a9ab-4ad5-b193-1364ee222c1b",
   "metadata": {},
   "source": [
    "### numpy 함수"
   ]
  },
  {
   "cell_type": "code",
   "execution_count": 101,
   "id": "19532d36-7a00-4ea4-bc35-b1f126f6e502",
   "metadata": {},
   "outputs": [
    {
     "name": "stdout",
     "output_type": "stream",
     "text": [
      "[[ 1.05250711 -0.28198589 -0.68727893]\n",
      " [-0.81193952  0.79404768 -0.00355644]\n",
      " [-0.82904624 -0.83320637 -1.46696501]]\n"
     ]
    }
   ],
   "source": [
    "samples = np.random.standard_normal(size=(3, 3))\n",
    "print(samples)"
   ]
  },
  {
   "cell_type": "code",
   "execution_count": 104,
   "id": "b112b45e-01a5-4248-8c0a-2339e8a45e63",
   "metadata": {},
   "outputs": [
    {
     "name": "stdout",
     "output_type": "stream",
     "text": [
      "[[1.02591769        nan        nan]\n",
      " [       nan 0.89109353        nan]\n",
      " [       nan        nan        nan]]\n"
     ]
    },
    {
     "name": "stderr",
     "output_type": "stream",
     "text": [
      "C:\\Users\\1-09\\AppData\\Local\\Temp\\ipykernel_10908\\806083388.py:1: RuntimeWarning: invalid value encountered in sqrt\n",
      "  arr1 = np.sqrt(samples) #루트\n"
     ]
    }
   ],
   "source": [
    "arr1 = np.sqrt(samples) #루트\n",
    "# nan (not a number): 숫자가 아닙니다(none과 비슷한 개념, 주로 음수일 때)\n",
    "# nan -> '결측치'라고 부르게 될 것\n",
    "print(arr1)"
   ]
  },
  {
   "cell_type": "code",
   "execution_count": 105,
   "id": "6ea2fff6-8dad-49bc-95f0-c3e9f9961a90",
   "metadata": {},
   "outputs": [
    {
     "name": "stdout",
     "output_type": "stream",
     "text": [
      "[[1.05250711 0.28198589 0.68727893]\n",
      " [0.81193952 0.79404768 0.00355644]\n",
      " [0.82904624 0.83320637 1.46696501]]\n"
     ]
    }
   ],
   "source": [
    "arr2 = np.abs(samples)\n",
    "print(arr2)"
   ]
  },
  {
   "cell_type": "code",
   "execution_count": 106,
   "id": "4cbaeb87-d612-4fe9-8793-c916328a43b2",
   "metadata": {},
   "outputs": [
    {
     "data": {
      "text/plain": [
       "array([[False,  True,  True],\n",
       "       [ True, False,  True],\n",
       "       [ True,  True,  True]])"
      ]
     },
     "execution_count": 106,
     "metadata": {},
     "output_type": "execute_result"
    }
   ],
   "source": [
    "np.isnan(arr1)"
   ]
  },
  {
   "cell_type": "code",
   "execution_count": null,
   "id": "e5698a5a-667a-428e-85bc-4a0d4f4f7d1b",
   "metadata": {},
   "outputs": [],
   "source": []
  }
 ],
 "metadata": {
  "kernelspec": {
   "display_name": "Python 3 (ipykernel)",
   "language": "python",
   "name": "python3"
  },
  "language_info": {
   "codemirror_mode": {
    "name": "ipython",
    "version": 3
   },
   "file_extension": ".py",
   "mimetype": "text/x-python",
   "name": "python",
   "nbconvert_exporter": "python",
   "pygments_lexer": "ipython3",
   "version": "3.13.2"
  }
 },
 "nbformat": 4,
 "nbformat_minor": 5
}
